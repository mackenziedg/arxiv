{
 "cells": [
  {
   "cell_type": "code",
   "execution_count": 1,
   "metadata": {},
   "outputs": [],
   "source": [
    "import pickle\n",
    "import xml.etree.ElementTree as ET\n",
    "\n",
    "import pandas as pd"
   ]
  },
  {
   "cell_type": "code",
   "execution_count": 2,
   "metadata": {},
   "outputs": [],
   "source": [
    "with open(\"./cs_arxiv.pickle\", \"rb\") as f:\n",
    "    e = pickle.load(f)"
   ]
  },
  {
   "cell_type": "code",
   "execution_count": 3,
   "metadata": {},
   "outputs": [],
   "source": [
    "data = {\n",
    "    \"id\": [],\n",
    "    \"created\": [],\n",
    "    \"updated\": [],\n",
    "    \"authors\": [],\n",
    "    \"title\": [],\n",
    "    \"categories\": [],\n",
    "    \"comments\": [],\n",
    "    \"msc_class\": [],\n",
    "    \"abstract\": []\n",
    "}\n",
    "\n",
    "padding = \"{http://arxiv.org/OAI/arXiv/}\"\n",
    "for a in e:\n",
    "    for el in a[2]:\n",
    "        try:\n",
    "            elem = el.find(\"{http://www.openarchives.org/OAI/2.0/}metadata\").find(padding+\"arXiv\")\n",
    "        except:\n",
    "            continue\n",
    "        data[\"id\"].append(elem.find(padding+\"id\").text)\n",
    "\n",
    "        data[\"created\"].append(elem.find(padding+\"created\").text)\n",
    "\n",
    "        # Not every article has been updated\n",
    "        try:\n",
    "            data[\"updated\"].append(elem.find(padding+\"updated\").text)\n",
    "        except:\n",
    "            data[\"updated\"].append(\"\")\n",
    "\n",
    "        data[\"authors\"].append([])\n",
    "        for i in elem.find(padding+\"authors\"):\n",
    "            if i.find(padding+\"forenames\") is not None:\n",
    "                forenames = \" \"+i.find(padding+\"forenames\").text\n",
    "            else:\n",
    "                forenames = \"\"\n",
    "            if i.find(padding+\"affiliation\") is not None:\n",
    "                affiliation = \":\"+i.find(padding+\"affiliation\").text\n",
    "            else:\n",
    "                affiliation = \"\"\n",
    "            keyname = i.find(padding+\"keyname\").text\n",
    "            data[\"authors\"][-1].append(keyname+forenames+affiliation)\n",
    "\n",
    "        data[\"title\"].append(elem.find(padding+\"title\").text)\n",
    "\n",
    "        data[\"categories\"].append(elem.find(padding+\"categories\").text)\n",
    "\n",
    "\n",
    "        if elem.find(padding+\"comments\") is not None:\n",
    "            data[\"comments\"].append(elem.find(padding+\"comments\").text)\n",
    "        else:\n",
    "            data[\"comments\"].append(\"\")\n",
    "\n",
    "        if elem.find(padding+\"msc-class\") is not None:\n",
    "            data[\"msc_class\"].append(elem.find(padding+\"msc-class\").text)\n",
    "        else:\n",
    "            data[\"msc_class\"].append(\"\")\n",
    "\n",
    "        data[\"abstract\"].append(elem.find(padding+\"abstract\").text)"
   ]
  },
  {
   "cell_type": "code",
   "execution_count": 4,
   "metadata": {},
   "outputs": [],
   "source": [
    "df = pd.DataFrame(data)\n",
    "df.to_csv(\"../data/full_arxiv_cs_raw.csv\", encoding=\"utf8\")\n",
    "\n",
    "df['primary_category'] = df.categories.str.split(expand=True).iloc[:,0]\n",
    "df.loc[:,'abstract'] = df.abstract.str.strip().replace(\"\\n\", \" \", regex=True)\n",
    "df.applymap(lambda x: None if x==\"\" else x)\n",
    "\n",
    "df.to_csv(\"../data/full_arxiv_cs_clean.csv\", encoding=\"utf8\")"
   ]
  }
 ],
 "metadata": {
  "kernelspec": {
   "display_name": "Python 3",
   "language": "python",
   "name": "python3"
  },
  "language_info": {
   "codemirror_mode": {
    "name": "ipython",
    "version": 3
   },
   "file_extension": ".py",
   "mimetype": "text/x-python",
   "name": "python",
   "nbconvert_exporter": "python",
   "pygments_lexer": "ipython3",
   "version": "3.5.3"
  }
 },
 "nbformat": 4,
 "nbformat_minor": 2
}
